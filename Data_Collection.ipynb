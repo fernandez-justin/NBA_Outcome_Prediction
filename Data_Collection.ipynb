{
 "cells": [
  {
   "cell_type": "code",
   "execution_count": 25,
   "metadata": {},
   "outputs": [],
   "source": [
    "import requests\n",
    "import pandas as pd\n",
    "import numpy as np\n",
    "from bs4 import BeautifulSoup"
   ]
  },
  {
   "cell_type": "markdown",
   "metadata": {},
   "source": [
    "# Scraping Data"
   ]
  },
  {
   "cell_type": "markdown",
   "metadata": {},
   "source": [
    "#### Getting Team Abrviations (ONLY RUN 1st time)"
   ]
  },
  {
   "cell_type": "code",
   "execution_count": 2,
   "metadata": {},
   "outputs": [],
   "source": [
    "# pulling table of team names and abreviatiosn from wikipedia\n",
    "url = 'https://en.wikipedia.org/wiki/Wikipedia:WikiProject_National_Basketball_Association/National_Basketball_Association_team_abbreviations'\n",
    "r = requests.get(url)\n",
    "soup = BeautifulSoup(r.content)"
   ]
  },
  {
   "cell_type": "code",
   "execution_count": 3,
   "metadata": {},
   "outputs": [],
   "source": [
    "# extracting just the table\n",
    "table = soup.find('table',{'class':'wikitable sortable'})"
   ]
  },
  {
   "cell_type": "code",
   "execution_count": 4,
   "metadata": {},
   "outputs": [],
   "source": [
    "# iterating through the table getting each row\n",
    "team = []\n",
    "for row in table.find_all('tr'):\n",
    "    column = row.find_all('td')\n",
    "    to_append = [x.get_text().strip() for x in column]\n",
    "    team.append(to_append)"
   ]
  },
  {
   "cell_type": "code",
   "execution_count": 5,
   "metadata": {},
   "outputs": [],
   "source": [
    "# splitting into two lists\n",
    "# team_abrev = all teams 3 letter abreviations\n",
    "# team_names = all teams full names\n",
    "team_abrev = [x[0] for x in team[1:]]\n",
    "team_names = [x[1] for x in team[1:]]"
   ]
  },
  {
   "cell_type": "markdown",
   "metadata": {},
   "source": [
    "Going to instantiate after the first run as to not need to ping the website over and over again"
   ]
  },
  {
   "cell_type": "code",
   "execution_count": 12,
   "metadata": {},
   "outputs": [],
   "source": [
    "team_abrev = ['ATL','BKN','BOS','CHA','CHI','CLE','DAL','DEN','DET','GSW','HOU','IND','LAC','LAL','MEM','MIA','MIL','MIN','NOP','NYK','OKC','ORL','PHI','PHX','POR','SAC','SAS','TOR','UTA','WAS']\n",
    "team_names = ['Atlanta Hawks','Brooklyn Nets','Boston Celtics','Charlotte Hornets','Chicago Bulls','Cleveland Cavaliers','Dallas Mavericks','Denver Nuggets','Detroit Pistons','Golden State Warriors','Houston Rockets','Indiana Pacers','Los Angeles Clippers','Los Angeles Lakers','Memphis Grizzlies','Miami Heat','Milwaukee Bucks','Minnesota Timberwolves','New Orleans Pelicans', 'Oklahoma City Thunder','Orlando Magic','Philadelphia 76ers','Phoenix Suns','Portland Trail Blazers','Sacramento Kings','San Antonio Spurs', 'Utah Jazz','Washington Wizards']"
   ]
  },
  {
   "cell_type": "markdown",
   "metadata": {},
   "source": [
    "#### Getting the Data for 1 team for 1 season"
   ]
  },
  {
   "cell_type": "code",
   "execution_count": 73,
   "metadata": {},
   "outputs": [],
   "source": [
    "team_test = 'WAS'\n",
    "year_test = '2000'\n",
    "url_test = 'https://www.basketball-reference.com/teams/{}/{}_games.html'.format(team_test,year_test)"
   ]
  },
  {
   "cell_type": "code",
   "execution_count": 75,
   "metadata": {},
   "outputs": [],
   "source": [
    "r = requests.get(url_test)\n",
    "soup = BeautifulSoup(r.content)"
   ]
  },
  {
   "cell_type": "code",
   "execution_count": 83,
   "metadata": {},
   "outputs": [],
   "source": [
    "table = soup.find('table',{'class':'sortable stats_table'})\n",
    "table_body = table.find('tbody')"
   ]
  },
  {
   "cell_type": "code",
   "execution_count": 94,
   "metadata": {},
   "outputs": [],
   "source": [
    "table_info = []\n",
    "for row in table_body.find_all('tr'):\n",
    "    column = row.find_all('td')\n",
    "    row_value = [x.get_text() for x in column]\n",
    "    #print(row_value)\n",
    "    table_info.append(row_value)"
   ]
  },
  {
   "cell_type": "code",
   "execution_count": 96,
   "metadata": {},
   "outputs": [
    {
     "data": {
      "text/plain": [
       "['Tue, Nov 2, 1999',\n",
       " '',\n",
       " 'Box Score',\n",
       " '',\n",
       " 'Atlanta Hawks',\n",
       " 'W',\n",
       " '',\n",
       " '94',\n",
       " '87',\n",
       " '1',\n",
       " '0',\n",
       " 'W 1',\n",
       " '']"
      ]
     },
     "execution_count": 96,
     "metadata": {},
     "output_type": "execute_result"
    }
   ],
   "source": [
    "table_info[0]"
   ]
  },
  {
   "cell_type": "markdown",
   "metadata": {},
   "source": [
    "`table_info` as of now is just the list of games with the most basic of data. It **does not** include the stats of each game. It includes:\n",
    "* date\n",
    "* BLANK\n",
    "* LINK TO BOX SCORE\n",
    "* @ if away, BLANK if home\n",
    "* opponent\n",
    "* win or loss\n",
    "* BLANK\n",
    "* points scored\n",
    "* opponent points scored\n",
    "* wins that season\n",
    "* losses that season\n",
    "* streak of win or losses\n",
    "* notes (always blank)"
   ]
  },
  {
   "cell_type": "markdown",
   "metadata": {},
   "source": [
    "### Getting baseline data for 1 season"
   ]
  },
  {
   "cell_type": "markdown",
   "metadata": {},
   "source": [
    "#### Teams to Have Changed their name since 2000\n",
    "\n",
    "* 2002 - Vanvouver Grizzlies (VAN) --> Memphis Grizzlies (MEM)\n",
    "* 2003 - Charlotte Hornets (CHH) --> New Orleans Hornets (NOH)\n",
    "* 2005 - Addition of Charlotte \n",
    "* 2006 - New Orleans Hornets (NOH) --> New Orleans/Oklahoma City Hornets (NOK)\n",
    "* 2008 - New Orleans/Oklahoma City Hornets (NOK) --> New Orleans Hornets (NOH)\n",
    "* 2009 - Seattle SuperSonics (SEA) --> Oklahoma City Thunder (OKC)\n",
    "* 2013 - New Jersey Nets (NJN) --> Brooklyn Nets (BRK)\n",
    "* 2014 - New Orleans Hornets (NOH) --> New Orleans Pelicans (NOP)\n",
    "* 2015 - Charlotte Bobcats (CHA) --> Charlotte Hornets (CHO)"
   ]
  },
  {
   "cell_type": "markdown",
   "metadata": {},
   "source": [
    "Due to all these changes going to have to change the abreviation list so that when the URL for baseball reference it can find the right team. The way that it works is that the url of the teams 82 game schedule (not including the statistics of the game) is based off the team abbreviation and the year. This will then be used to get the game-by-game statistics."
   ]
  },
  {
   "cell_type": "code",
   "execution_count": 17,
   "metadata": {},
   "outputs": [],
   "source": [
    "team_abrev = ['ATL','NJN','BOS','CHH','CHI','CLE','DAL','DEN','DET','GSW','HOU','IND','LAC','LAL','VAN','MIA','MIL','MIN','NYK','SEA','ORL','PHI','PHO','POR','SAC','SAS','TOR','UTA','WAS']\n"
   ]
  },
  {
   "cell_type": "code",
   "execution_count": 18,
   "metadata": {},
   "outputs": [
    {
     "data": {
      "text/plain": [
       "29"
      ]
     },
     "execution_count": 18,
     "metadata": {},
     "output_type": "execute_result"
    }
   ],
   "source": [
    "len(team_abrev)"
   ]
  },
  {
   "cell_type": "code",
   "execution_count": 15,
   "metadata": {},
   "outputs": [],
   "source": [
    "def change_team_abrev(team_abrev,year):\n",
    "    if year == 2002:\n",
    "        team_abrev.remove('VAN')\n",
    "        team_abrev.append('MEM')\n",
    "    if year == 2003:\n",
    "        team_abrev.remove('CHH')\n",
    "        team_abrev.append('NOH')\n",
    "    if year == 2005:\n",
    "        team_abrev.append('CHA')\n",
    "    if year == 2006:\n",
    "        team_abrev.remove('NOH')\n",
    "        team_abrev.append('NOK')\n",
    "    if year == 2008:\n",
    "        team_abrev.remove('NOK')\n",
    "        team_abrev.append('NOH')\n",
    "    if year == 2009:\n",
    "        team_abrev.remove('SEA')\n",
    "        team_abrev.append('OKC')\n",
    "    if year == 2013:\n",
    "        team_abrev.remove('NJN')\n",
    "        team_abrev.append('BRK')\n",
    "    if year == 2014:\n",
    "        team_abrev.remove('NOH')\n",
    "        team_abrev.append('NOP')\n",
    "    if year == 2015:\n",
    "        team_abrev.remove('CHA')\n",
    "        team_abrev.append('CHO')\n",
    "    return team_abrev"
   ]
  },
  {
   "cell_type": "code",
   "execution_count": 22,
   "metadata": {},
   "outputs": [],
   "source": [
    "# info for the entire season\n",
    "table_info = []\n",
    "year_test = [2000]\n",
    "team_test = ['VAN']\n",
    "# iterating through each team abreviation\n",
    "for year in year_test:\n",
    "    for team in team_test:\n",
    "        url = 'https://www.basketball-reference.com/teams/{}/{}_games.html'.format(team,year)\n",
    "        r = requests.get(url)\n",
    "        soup = BeautifulSoup(r.content)\n",
    "        table = soup.find('table',{'class':'sortable stats_table'})\n",
    "        table_body = table.find('tbody')\n",
    "        table_info = []\n",
    "        for row in table_body.find_all('tr'):\n",
    "            column = row.find_all('td')\n",
    "            row_value = [x.get_text() for x in column]\n",
    "            table_info.append(row_value)"
   ]
  },
  {
   "cell_type": "code",
   "execution_count": 26,
   "metadata": {},
   "outputs": [],
   "source": [
    "df = pd.DataFrame(table_info)"
   ]
  },
  {
   "cell_type": "code",
   "execution_count": 47,
   "metadata": {},
   "outputs": [],
   "source": [
    "df.dropna(axis=0,inplace=True)"
   ]
  },
  {
   "cell_type": "markdown",
   "metadata": {},
   "source": [
    "#### Getting Box Score\n",
    "Getting the box score url is based on the home team and the date that the game was played"
   ]
  },
  {
   "cell_type": "code",
   "execution_count": null,
   "metadata": {},
   "outputs": [],
   "source": []
  }
 ],
 "metadata": {
  "kernelspec": {
   "display_name": "Python 3",
   "language": "python",
   "name": "python3"
  },
  "language_info": {
   "codemirror_mode": {
    "name": "ipython",
    "version": 3
   },
   "file_extension": ".py",
   "mimetype": "text/x-python",
   "name": "python",
   "nbconvert_exporter": "python",
   "pygments_lexer": "ipython3",
   "version": "3.6.9"
  }
 },
 "nbformat": 4,
 "nbformat_minor": 4
}
