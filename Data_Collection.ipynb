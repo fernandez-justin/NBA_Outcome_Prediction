{
 "cells": [
  {
   "cell_type": "code",
   "execution_count": 6,
   "metadata": {},
   "outputs": [],
   "source": [
    "import requests\n",
    "import pandas\n",
    "import numpy\n",
    "from bs4 import BeautifulSoup"
   ]
  },
  {
   "cell_type": "markdown",
   "metadata": {},
   "source": [
    "# Scraping Data"
   ]
  },
  {
   "cell_type": "markdown",
   "metadata": {},
   "source": [
    "#### Getting Team Abrviations"
   ]
  },
  {
   "cell_type": "code",
   "execution_count": 67,
   "metadata": {},
   "outputs": [],
   "source": [
    "# pulling table of team names and abreviatiosn from wikipedia\n",
    "url = 'https://en.wikipedia.org/wiki/Wikipedia:WikiProject_National_Basketball_Association/National_Basketball_Association_team_abbreviations'\n",
    "r = requests.get(url)\n",
    "soup = BeautifulSoup(r.content)"
   ]
  },
  {
   "cell_type": "code",
   "execution_count": 17,
   "metadata": {},
   "outputs": [],
   "source": [
    "# extracting just the table\n",
    "table = soup.find('table',{'class':'wikitable sortable'})"
   ]
  },
  {
   "cell_type": "code",
   "execution_count": 62,
   "metadata": {},
   "outputs": [],
   "source": [
    "# iterating through the table getting each row\n",
    "team = []\n",
    "for row in table.find_all('tr'):\n",
    "    column = row.find_all('td')\n",
    "    to_append = [x.get_text().strip() for x in column]\n",
    "    team.append(to_append)"
   ]
  },
  {
   "cell_type": "code",
   "execution_count": 68,
   "metadata": {},
   "outputs": [],
   "source": [
    "# splitting into two lists\n",
    "# team_abrev = all teams 3 letter abreviations\n",
    "# team_names = all teams full names\n",
    "team_abrev = [x[0] for x in team[1:]]\n",
    "team_names = [x[1] for x in team[1:]]"
   ]
  },
  {
   "cell_type": "code",
   "execution_count": 97,
   "metadata": {},
   "outputs": [
    {
     "data": {
      "text/plain": [
       "['ATL',\n",
       " 'BKN',\n",
       " 'BOS',\n",
       " 'CHA',\n",
       " 'CHI',\n",
       " 'CLE',\n",
       " 'DAL',\n",
       " 'DEN',\n",
       " 'DET',\n",
       " 'GSW',\n",
       " 'HOU',\n",
       " 'IND',\n",
       " 'LAC',\n",
       " 'LAL',\n",
       " 'MEM',\n",
       " 'MIA',\n",
       " 'MIL',\n",
       " 'MIN',\n",
       " 'NOP',\n",
       " 'NYK',\n",
       " 'OKC',\n",
       " 'ORL',\n",
       " 'PHI',\n",
       " 'PHX',\n",
       " 'POR',\n",
       " 'SAC',\n",
       " 'SAS',\n",
       " 'TOR',\n",
       " 'UTA',\n",
       " 'WAS']"
      ]
     },
     "execution_count": 97,
     "metadata": {},
     "output_type": "execute_result"
    }
   ],
   "source": [
    "team_abrev"
   ]
  },
  {
   "cell_type": "markdown",
   "metadata": {},
   "source": [
    "#### Getting the Data for 1 team for 1 season"
   ]
  },
  {
   "cell_type": "code",
   "execution_count": 73,
   "metadata": {},
   "outputs": [],
   "source": [
    "team_test = 'WAS'\n",
    "year_test = '2000'\n",
    "url_test = 'https://www.basketball-reference.com/teams/{}/{}_games.html'.format(team_test,year_test)"
   ]
  },
  {
   "cell_type": "code",
   "execution_count": 75,
   "metadata": {},
   "outputs": [],
   "source": [
    "r = requests.get(url_test)\n",
    "soup = BeautifulSoup(r.content)"
   ]
  },
  {
   "cell_type": "code",
   "execution_count": 83,
   "metadata": {},
   "outputs": [],
   "source": [
    "table = soup.find('table',{'class':'sortable stats_table'})\n",
    "table_body = table.find('tbody')"
   ]
  },
  {
   "cell_type": "code",
   "execution_count": 94,
   "metadata": {},
   "outputs": [],
   "source": [
    "table_info = []\n",
    "for row in table_body.find_all('tr'):\n",
    "    column = row.find_all('td')\n",
    "    row_value = [x.get_text() for x in column]\n",
    "    #print(row_value)\n",
    "    table_info.append(row_value)"
   ]
  },
  {
   "cell_type": "code",
   "execution_count": 96,
   "metadata": {},
   "outputs": [
    {
     "data": {
      "text/plain": [
       "['Tue, Nov 2, 1999',\n",
       " '',\n",
       " 'Box Score',\n",
       " '',\n",
       " 'Atlanta Hawks',\n",
       " 'W',\n",
       " '',\n",
       " '94',\n",
       " '87',\n",
       " '1',\n",
       " '0',\n",
       " 'W 1',\n",
       " '']"
      ]
     },
     "execution_count": 96,
     "metadata": {},
     "output_type": "execute_result"
    }
   ],
   "source": [
    "table_info[0]"
   ]
  },
  {
   "cell_type": "markdown",
   "metadata": {},
   "source": [
    "`table_info` as of now is just the list of games with the most basic of data. It **does not** include the stats of each game. It includes:\n",
    "* date\n",
    "* BLANK\n",
    "* LINK TO BOX SCORE\n",
    "* @ if away, BLANK if home\n",
    "* opponent\n",
    "* win or loss\n",
    "* BLANK\n",
    "* points scored\n",
    "* opponent points scored\n",
    "* wins that season\n",
    "* losses that season\n",
    "* streak of win or losses\n",
    "* notes (always blank)"
   ]
  },
  {
   "cell_type": "markdown",
   "metadata": {},
   "source": [
    "### Getting baseline data for 1 season"
   ]
  },
  {
   "cell_type": "code",
   "execution_count": null,
   "metadata": {},
   "outputs": [],
   "source": [
    "table_info = []\n",
    "year = 2000\n",
    "for team in team_abrev:\n",
    "    url = 'https://www.basketball-reference.com/teams/{}/{}_games.html'.format(team,year)\n",
    "    r = requests.get(url_test)\n",
    "    soup = BeautifulSoup(r.content)\n",
    "    table = soup.find('table',{'class':'sortable stats_table'})\n",
    "    table_body = table.find('tbody')\n",
    "    table_info = []\n",
    "    for row in table_body.find_all('tr'):\n",
    "        column = row.find_all('td')\n",
    "        row_value = [x.get_text() for x in column]\n",
    "        table_info.append(row_value)"
   ]
  },
  {
   "cell_type": "markdown",
   "metadata": {},
   "source": [
    "#### Teams to Have Changed their name since 2000\n",
    "\n",
    "* 2001 - Vanvouver Grizzlies --> Memphis Grizzlies\n",
    "* 2002 - Charlotte Hornets --> New Orleans Hornets\n",
    "* 2005 - New Orleans Hornets --> New Orleans/Oklahoma City Hornets\n",
    "* 2007 - New Orleans/Oklahoma City Hornets --> New Orleans Hornets\n",
    "* 2008 - Seattle SuperSonics --> Oklahoma City Thunder\n",
    "* 2012 - New Jersey Nets --> Brooklyn Nets\n",
    "* 2013 - New Orleans Hornets --> New Orleans Pelicans\n",
    "* 2014 - Charlotte Bobcats --> Charlotte Hornets/"
   ]
  },
  {
   "cell_type": "code",
   "execution_count": null,
   "metadata": {},
   "outputs": [],
   "source": []
  }
 ],
 "metadata": {
  "kernelspec": {
   "display_name": "Python 3",
   "language": "python",
   "name": "python3"
  },
  "language_info": {
   "codemirror_mode": {
    "name": "ipython",
    "version": 3
   },
   "file_extension": ".py",
   "mimetype": "text/x-python",
   "name": "python",
   "nbconvert_exporter": "python",
   "pygments_lexer": "ipython3",
   "version": "3.6.9"
  }
 },
 "nbformat": 4,
 "nbformat_minor": 4
}
